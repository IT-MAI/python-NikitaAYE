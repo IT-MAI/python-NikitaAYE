{
  "nbformat": 4,
  "nbformat_minor": 0,
  "metadata": {
    "colab": {
      "name": "Untitled0.ipynb",
      "provenance": []
    },
    "kernelspec": {
      "name": "python3",
      "display_name": "Python 3"
    },
    "language_info": {
      "name": "python"
    }
  },
  "cells": [
    {
      "cell_type": "code",
      "execution_count": 4,
      "metadata": {
        "colab": {
          "base_uri": "https://localhost:8080/"
        },
        "id": "mF_lgkPzvZX0",
        "outputId": "ceabc642-4167-44be-b948-042b1b856747"
      },
      "outputs": [
        {
          "output_type": "stream",
          "name": "stdout",
          "text": [
            "a=1\n",
            "b=2\n",
            "c=3\n",
            "D= -8\n"
          ]
        }
      ],
      "source": [
        "#Написать калькулятор для вычисления дискриминанта. На вход подаются коэффициенты квадратного уравнения, выход - значение дискриминанта.\n",
        "a=int(input(\"a=\"))\n",
        "b=int(input(\"b=\"))\n",
        "c=int(input(\"c=\"))\n",
        "d=(b**2)-(4*a*c)\n",
        "print(\"D=\",d)\n"
      ]
    },
    {
      "cell_type": "code",
      "source": [
        "#По данному целому числу N распечатайте все квадраты натуральных чисел, не превосходящие N, в порядке возрастания.\n",
        "N=int(input(\"Введите число:\"))\n",
        "i=1\n",
        "while i**2<=N:\n",
        "  print(i**2)\n",
        "  i+=1\n",
        "\n",
        "\n",
        "  "
      ],
      "metadata": {
        "colab": {
          "base_uri": "https://localhost:8080/"
        },
        "id": "K-v3mLBS49mu",
        "outputId": "ad0d7ce6-b560-47fb-ab78-c98ae9b3a6d3"
      },
      "execution_count": 11,
      "outputs": [
        {
          "output_type": "stream",
          "name": "stdout",
          "text": [
            "Введите число:17\n",
            "1\n",
            "4\n",
            "9\n",
            "16\n"
          ]
        }
      ]
    },
    {
      "cell_type": "code",
      "source": [
        "#Дано целое число, не меньшее 2. Выведите его наименьший натуральный делитель, отличный от 1.\n",
        "a=int(input(\"Введите число:\"))\n",
        "for i in range(2,a):\n",
        "  if i<a and a%i==0:\n",
        "    a=i\n",
        "print(a)"
      ],
      "metadata": {
        "id": "ibcrf3xHKVdz",
        "outputId": "07ed7bfe-8d17-4fd5-9941-d0df97464fb8",
        "colab": {
          "base_uri": "https://localhost:8080/"
        }
      },
      "execution_count": 17,
      "outputs": [
        {
          "output_type": "stream",
          "name": "stdout",
          "text": [
            "Введите число:7\n",
            "7\n"
          ]
        }
      ]
    },
    {
      "cell_type": "code",
      "source": [
        "#Последовательность Фибоначчи определяется так:\n",
        "#f_0 = 0,  f_1 = 1,  f_n = f_{n−1} + f_{n−2}\n",
        "#По данному числу n определите n-е число Фибоначчи f_n.\n",
        "n=int(input(\"Введите число n:\"))\n",
        "b=[0,1]\n",
        "for i in range(0,n):\n",
        "  b[i]=b[i-1]+b[i-2]\n",
        "  b.append(b[i])\n",
        "print(b[n])"
      ],
      "metadata": {
        "id": "sL5AXXNpSANm",
        "outputId": "6a9ab58a-399e-4715-90a8-dc0973c39b71",
        "colab": {
          "base_uri": "https://localhost:8080/"
        }
      },
      "execution_count": 22,
      "outputs": [
        {
          "output_type": "stream",
          "name": "stdout",
          "text": [
            "Введите число n:6\n",
            "8\n"
          ]
        }
      ]
    },
    {
      "cell_type": "code",
      "source": [
        "#Выведите все элементы списка с четными индексами (то есть A[0], A[2], A[4], ...).\n",
        "n = int(input(\"Введите длину списка:\"))\n",
        "A = ['']*n\n",
        "for i in range (n):\n",
        "    A[i]=str(input())\n",
        "for i in range (n):\n",
        "    if i%2 == 0:\n",
        "        print(A[i])"
      ],
      "metadata": {
        "id": "95AO-OdtWupk",
        "outputId": "4b015c4c-0907-48dc-c18a-7640723f2fdf",
        "colab": {
          "base_uri": "https://localhost:8080/"
        }
      },
      "execution_count": 23,
      "outputs": [
        {
          "output_type": "stream",
          "name": "stdout",
          "text": [
            "Введите длину списка:5\n",
            "1\n",
            "2\n",
            "3\n",
            "4\n",
            "5\n",
            "1\n",
            "3\n",
            "5\n"
          ]
        }
      ]
    },
    {
      "cell_type": "code",
      "source": [
        "#Выведите все четные элементы списка. При этом используйте цикл for, перебирающий элементы списка, а не их индексы!\n",
        "n = int(input(\"Введите длину списка:\"))\n",
        "A = ['']*n\n",
        "for i in range (n):\n",
        "    A[i]=int(input())\n",
        "for i in range (n):\n",
        "    if i%2 == 0:\n",
        "        print(A[i])"
      ],
      "metadata": {
        "id": "WVeuCD8iXSuM",
        "outputId": "b33d449d-1dba-4042-ba57-7a62d6349083",
        "colab": {
          "base_uri": "https://localhost:8080/"
        }
      },
      "execution_count": 24,
      "outputs": [
        {
          "output_type": "stream",
          "name": "stdout",
          "text": [
            "Введите длину списка:5\n",
            "1\n",
            "2\n",
            "3\n",
            "4\n",
            "5\n",
            "1\n",
            "3\n",
            "5\n"
          ]
        }
      ]
    },
    {
      "cell_type": "code",
      "source": [
        "#Дан список чисел. Если в нем есть два соседних элемента одного знака, выведите эти числа. Если соседних элементов одного знака нет — не выводите ничего. Если таких пар соседей несколько — выведите первую пару.\n",
        "n = int(input(\"Введите длину списка:\"))\n",
        "A = [0]*(n+1)\n",
        "for i in range (n):\n",
        "    A[i] = int(input(\"Введите значения:\"))\n",
        "for i in range (n):\n",
        "    if (A[i]>=0 and A[i+1]>=0) or (A[i]<0 and A[i+1]<0):\n",
        "        print(A[i],A[i+1])\n",
        "        break"
      ],
      "metadata": {
        "id": "QqzGBqQUX5Ok",
        "outputId": "8e248522-82ac-4415-8586-a081cd0a6149",
        "colab": {
          "base_uri": "https://localhost:8080/"
        }
      },
      "execution_count": 25,
      "outputs": [
        {
          "output_type": "stream",
          "name": "stdout",
          "text": [
            "Введите длину списка:5\n",
            "Введите значения:-1\n",
            "Введите значения:2\n",
            "Введите значения:3\n",
            "Введите значения:-4\n",
            "Введите значения:-5\n",
            "2 3\n"
          ]
        }
      ]
    },
    {
      "cell_type": "code",
      "source": [
        "#Последовательность состоит из натуральных чисел и завершается числом 0. Определите, сколько элементов этой последовательности больше предыдущего элемента.\n",
        "a=[]\n",
        "count=0\n",
        "print(\"Введите последовательность\")\n",
        "while True:\n",
        "    b=int(input())\n",
        "    if b != 0:\n",
        "        a.append(b)\n",
        "    else:\n",
        "        a.append(b)\n",
        "        break\n",
        "for i in range(1,len(a)):\n",
        "    if a[i]>a[i-1]:\n",
        "        count+=1\n",
        "print(count)"
      ],
      "metadata": {
        "id": "PTZI636ZcElz",
        "outputId": "f4e737eb-781d-48f8-e15d-3e3f32e2b05b",
        "colab": {
          "base_uri": "https://localhost:8080/"
        }
      },
      "execution_count": 30,
      "outputs": [
        {
          "output_type": "stream",
          "name": "stdout",
          "text": [
            "Введите последовательность\n",
            "1\n",
            "2\n",
            "3\n",
            "4\n",
            "0\n",
            "3\n"
          ]
        }
      ]
    },
    {
      "cell_type": "code",
      "source": [
        "#Дан список чисел. Определите, сколько в этом списке элементов, которые больше двух своих соседей, и выведите количество таких элементов. Крайние элементы списка никогда не учитываются, поскольку у них недостаточно соседей.\n",
        "a=[]\n",
        "count=0\n",
        "print(\"Для завершения списка введите 'end'\")\n",
        "while True:\n",
        "    b=input()\n",
        "    if b!='end':\n",
        "        a.append(b)\n",
        "    else:\n",
        "        break\n",
        "for i in range(1,len(a)-1):\n",
        "    if a[i]>a[i-1] and a[i]>a[i+1]:\n",
        "        count+=1\n",
        "print(count)"
      ],
      "metadata": {
        "id": "wySkNxwveYb0",
        "outputId": "1babbd53-8aa1-4d5f-e995-4abec698a837",
        "colab": {
          "base_uri": "https://localhost:8080/"
        }
      },
      "execution_count": 36,
      "outputs": [
        {
          "output_type": "stream",
          "name": "stdout",
          "text": [
            "Для завершения списка введите 'end'\n",
            "1\n",
            "3\n",
            "4\n",
            "3\n",
            "6\n",
            "8\n",
            "5\n",
            "end\n",
            "2\n"
          ]
        }
      ]
    },
    {
      "cell_type": "code",
      "source": [
        "#Петя перешёл в другую школу. На уроке физкультуры ему понадобилось определить своё место в строю. Помогите ему это сделать. Программа получает на вход невозрастающую последовательность натуральных чисел, означающих рост каждого человека в строю. После этого вводится число X – рост Пети. Все числа во входных данных натуральные и не превышают 200. Выведите номер, под которым Петя должен встать в строй. Если в строю есть люди с одинаковым ростом, таким же, как у Пети, то он должен встать после них.\n",
        "print(\"Введите значения роста учеников, для завершения напишите 'end'\")\n",
        "a=[]\n",
        "while True:\n",
        "    b=input()\n",
        "    if b!=\"end\":\n",
        "        a.append(b)\n",
        "    else:\n",
        "        break\n",
        "print(\"Рост Пети:\")\n",
        "h=int(input())\n",
        "for i in range(1,len(a)):\n",
        "    if h>int(a[i]) and h<int(a[i-1]):\n",
        "        print(\"Место Пети в строю:\",i+1)\n",
        "    if h==int(a[i-1]) and h!=int(a[i]):\n",
        "        print(\"Место Пети в строю:\",i+1)"
      ],
      "metadata": {
        "id": "E-3tZ0VSgjhT",
        "outputId": "e7adf142-de0c-49fe-9fc4-9d59b5e431da",
        "colab": {
          "base_uri": "https://localhost:8080/"
        }
      },
      "execution_count": 42,
      "outputs": [
        {
          "output_type": "stream",
          "name": "stdout",
          "text": [
            "Введите значения роста учеников, для завершения напишите 'end'\n",
            "178\n",
            "176\n",
            "175\n",
            "174\n",
            "end\n",
            "Рост Пети:\n",
            "177\n",
            "Место Пети в строю: 2\n"
          ]
        }
      ]
    },
    {
      "cell_type": "code",
      "source": [
        "#Дан список, упорядоченный по неубыванию элементов в нем. Определите, сколько в нем различных элементов.\n",
        "a=[]\n",
        "c=0\n",
        "print(\"Введите последовательность, в конце напишите 'end'\")\n",
        "while True:\n",
        "    b=input()\n",
        "    if b !=\"end\":\n",
        "        a.append(b)\n",
        "    else:\n",
        "        break\n",
        "for i in range(0,len(a)):\n",
        "    if a.count(a[i])==1:\n",
        "        c+=1\n",
        "print(c)\n"
      ],
      "metadata": {
        "id": "YiwxSdV5oZgh",
        "outputId": "652716fa-c9f1-4e50-f55a-5277423ad2be",
        "colab": {
          "base_uri": "https://localhost:8080/"
        }
      },
      "execution_count": 43,
      "outputs": [
        {
          "output_type": "stream",
          "name": "stdout",
          "text": [
            "Введите последовательность, в конце напишите 'end'\n",
            "2\n",
            "3\n",
            "4\n",
            "5\n",
            "7\n",
            "7\n",
            "7\n",
            "end\n",
            "4\n"
          ]
        }
      ]
    },
    {
      "cell_type": "code",
      "source": [
        "#Дан список чисел. Выведите значение наибольшего элемента в списке, а затем индекс этого элемента в списке. Если наибольших элементов несколько, выведите индекс первого из них.\n",
        "print(\"Введите последовательность, в конце напишите 'end'\")\n",
        "a=[]\n",
        "while True:\n",
        "    b=input()\n",
        "    if b !=\"end\":\n",
        "        a.append(int(b))\n",
        "    else:\n",
        "        break\n",
        "print(\"Максимум:\",max(a),\" \",\"Индекс:\",a.index(max(a)))"
      ],
      "metadata": {
        "id": "4Bi0c99a4-LH",
        "outputId": "37ead6c0-bd7a-4709-963f-04f5b3465af1",
        "colab": {
          "base_uri": "https://localhost:8080/"
        }
      },
      "execution_count": 48,
      "outputs": [
        {
          "output_type": "stream",
          "name": "stdout",
          "text": [
            "Введите последовательность, в конце напишите 'end'\n",
            "2\n",
            "3\n",
            "4\n",
            "end\n",
            "Максимум: 4   Индекс: 2\n"
          ]
        }
      ]
    },
    {
      "cell_type": "code",
      "source": [
        "#Последовательность состоит из натуральных чисел и завершается числом 0. Определите, сколько элементов этой последовательности равны ее наибольшему элементу.\n",
        "a=[]\n",
        "print(\"Введите последовательность, в конце напишите 0\")\n",
        "while True:\n",
        "    b=input()\n",
        "    if b !=\"0\":\n",
        "        a.append(int(b3))\n",
        "    else:\n",
        "        break\n",
        "print(a.count(max(a)))"
      ],
      "metadata": {
        "id": "it47yrEg5hjX",
        "outputId": "563edf46-534e-4a19-f7cc-476f04caf1d2",
        "colab": {
          "base_uri": "https://localhost:8080/"
        }
      },
      "execution_count": 49,
      "outputs": [
        {
          "output_type": "stream",
          "name": "stdout",
          "text": [
            "2\n",
            "3\n",
            "4\n",
            "0\n",
            "1\n"
          ]
        }
      ]
    },
    {
      "cell_type": "code",
      "source": [
        "#Дана последовательность натуральных чисел, завершающаяся числом 0. Определите, какое наибольшее число подряд идущих элементов этой последовательности равны друг другу.\n",
        "a=[]\n",
        "c=0\n",
        "print(\"Введите последовательность, в конце напишите 0\")\n",
        "while True:\n",
        "    b=input()\n",
        "    if b !=\"0\":\n",
        "        a.append(int(b))\n",
        "    else:\n",
        "        break\n",
        "for i in range(0,len(a)):\n",
        "    if a.count(a[i])!=1:\n",
        "        if a.count(a[i])>c:\n",
        "            c=a.count(a[i])\n",
        "print(c)"
      ],
      "metadata": {
        "id": "K_FkA1aw6izf",
        "outputId": "023e9642-ecd5-4a56-f9a7-c5d34953ba07",
        "colab": {
          "base_uri": "https://localhost:8080/"
        }
      },
      "execution_count": 52,
      "outputs": [
        {
          "output_type": "stream",
          "name": "stdout",
          "text": [
            "Введите последовательность, в конце напишите 0\n",
            "2\n",
            "3\n",
            "3\n",
            "3\n",
            "4\n",
            "4\n",
            "5\n",
            "0\n",
            "3\n"
          ]
        }
      ]
    },
    {
      "cell_type": "code",
      "source": [
        "#Даны два списка с числами, получить третий путем поэлементного сложения первых двух.\n",
        "com1=[]\n",
        "com2=[]\n",
        "com3=[]\n",
        "print(\"Введите первую последовательность, в конце напишите 'end'\")\n",
        "while True:\n",
        "    b=input()\n",
        "    if b !=\"end\":\n",
        "        com1.append(int(b))\n",
        "    else:\n",
        "        break\n",
        "print(\"Введите вторую последовательность, в конце напишите 'end'\")\n",
        "while True:\n",
        "    b=input()\n",
        "    if b !=\"end\":\n",
        "        com2.append(int(b))\n",
        "    else:\n",
        "        break\n",
        "for i in range(len(com1)):\n",
        "    com3.append(com1[i]+com2[i])\n",
        "print(com3)\n"
      ],
      "metadata": {
        "id": "a4E2eXdq7mxB",
        "outputId": "9d6c84e1-2543-4733-e09e-6a29515bf9a9",
        "colab": {
          "base_uri": "https://localhost:8080/"
        }
      },
      "execution_count": 54,
      "outputs": [
        {
          "output_type": "stream",
          "name": "stdout",
          "text": [
            "Введите первую последовательность, в конце напишите 'end'\n",
            "2\n",
            "3\n",
            "4\n",
            "end\n",
            "Введите вторую последовательность, в конце напишите 'end'\n",
            "3\n",
            "4\n",
            "5\n",
            "end\n",
            "[5, 7, 9]\n"
          ]
        }
      ]
    },
    {
      "cell_type": "code",
      "source": [
        "#Даные два вектора (списка), вычислить скалярное произведение\n",
        "com1=[]\n",
        "com2=[]\n",
        "com3=[]\n",
        "print(\"Введите координаты первого вектора, в конце напишите 'end'\")\n",
        "while True:\n",
        "    b=input()\n",
        "    if b !=\"end\":\n",
        "        com1.append(int(b))\n",
        "    else:\n",
        "        break\n",
        "print(\"Введите координаты второго вектора, в конце напишите 'end'\")\n",
        "while True:\n",
        "    b=input()\n",
        "    if b !=\"end\":\n",
        "        com2.append(int(b))\n",
        "    else:\n",
        "        break\n",
        "for i in range(len(com1)):\n",
        "    com3.append(com1[i]*com2[i])\n",
        "print(com3)"
      ],
      "metadata": {
        "id": "PvHNhYg1Ar8P",
        "outputId": "8fbd77a8-1984-4f6f-9860-ba3593bcac1c",
        "colab": {
          "base_uri": "https://localhost:8080/"
        }
      },
      "execution_count": 56,
      "outputs": [
        {
          "output_type": "stream",
          "name": "stdout",
          "text": [
            "Введите координаты первого вектора, в конце напишите 'end'\n",
            "1\n",
            "2\n",
            "3\n",
            "end\n",
            "Введите координаты второго вектора, в конце напишите 'end'\n",
            "2\n",
            "3\n",
            "4\n",
            "end\n",
            "[2, 6, 12]\n"
          ]
        }
      ]
    }
  ]
}