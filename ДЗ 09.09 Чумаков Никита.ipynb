{
  "cells": [
    {
      "cell_type": "code",
      "source": [
        "#- поменяйте местами значения двух переменных"
      ],
      "metadata": {
        "id": "1SPOG0-6iKkX"
      },
      "id": "1SPOG0-6iKkX",
      "execution_count": null,
      "outputs": []
    },
    {
      "cell_type": "code",
      "source": [
        "a=1\n",
        "b=2\n",
        "c=b\n",
        "b=a\n",
        "a=c\n",
        "print(a,b)"
      ],
      "metadata": {
        "id": "3hl2YvCsiNrF",
        "outputId": "84b81160-2cfe-4ab6-fc54-f6d6ac4e0fc4",
        "colab": {
          "base_uri": "https://localhost:8080/"
        }
      },
      "id": "3hl2YvCsiNrF",
      "execution_count": 7,
      "outputs": [
        {
          "output_type": "stream",
          "name": "stdout",
          "text": [
            "2 1\n"
          ]
        }
      ]
    },
    {
      "cell_type": "code",
      "source": [
        "#дано трехзначное число. Найдите произведение их цифр\n",
        "a=156\n",
        "c=a//100\n",
        "d=a//10\n",
        "b=a//10-c*10\n",
        "e=a-d*10\n",
        "print(e*b*c)"
      ],
      "metadata": {
        "id": "wUhtZTnOi6d2",
        "outputId": "5face1d5-fc07-4edc-8b64-8ee843fd576d",
        "colab": {
          "base_uri": "https://localhost:8080/"
        }
      },
      "id": "wUhtZTnOi6d2",
      "execution_count": 12,
      "outputs": [
        {
          "output_type": "stream",
          "name": "stdout",
          "text": [
            "30\n"
          ]
        }
      ]
    },
    {
      "cell_type": "code",
      "source": [
        "#даны два трехзначных числа. Найдите шестизначное число, образованное из двух данных чисел путем дописывания второго числа к первому справа.\n",
        "a=234\n",
        "b=123\n",
        "c=a*1000\n",
        "print(c+b)"
      ],
      "metadata": {
        "id": "JKot9XmKmVM3",
        "outputId": "7416a76a-68d7-4088-d819-061bd2fecc46",
        "colab": {
          "base_uri": "https://localhost:8080/"
        }
      },
      "id": "JKot9XmKmVM3",
      "execution_count": 13,
      "outputs": [
        {
          "output_type": "stream",
          "name": "stdout",
          "text": [
            "234123\n"
          ]
        }
      ]
    },
    {
      "cell_type": "code",
      "source": [
        "#дано трехзначное число. Замените среднюю цифру на ноль.\n",
        "a=234\n",
        "b=a//100\n",
        "c=a-b*100\n",
        "d=c//10\n",
        "e=a-d*10\n",
        "print(e)"
      ],
      "metadata": {
        "id": "GfoH40nhoNTe",
        "outputId": "c100f16c-6a55-40f1-f575-03fd1ad785c8",
        "colab": {
          "base_uri": "https://localhost:8080/"
        }
      },
      "id": "GfoH40nhoNTe",
      "execution_count": 28,
      "outputs": [
        {
          "output_type": "stream",
          "name": "stdout",
          "text": [
            "204\n"
          ]
        }
      ]
    },
    {
      "cell_type": "code",
      "source": [
        "#дано трехзначное число. Выведите на экран новое число, полученное из исходного путем перестановки цифр в обратном порядке.\n",
        "a=256\n",
        "b=a//100\n",
        "c=a-b*100\n",
        "d=c//10\n",
        "e=c-d*10\n",
        "print(e*100+d*10+b)"
      ],
      "metadata": {
        "id": "Q6dtGMUcq8Wz",
        "outputId": "cde16b67-9b63-4520-deae-ef4d083b793a",
        "colab": {
          "base_uri": "https://localhost:8080/"
        }
      },
      "id": "Q6dtGMUcq8Wz",
      "execution_count": 30,
      "outputs": [
        {
          "output_type": "stream",
          "name": "stdout",
          "text": [
            "652\n"
          ]
        }
      ]
    }
  ],
  "metadata": {
    "kernelspec": {
      "display_name": "Python 3",
      "language": "python",
      "name": "python3"
    },
    "language_info": {
      "codemirror_mode": {
        "name": "ipython",
        "version": 3
      },
      "file_extension": ".py",
      "mimetype": "text/x-python",
      "name": "python",
      "nbconvert_exporter": "python",
      "pygments_lexer": "ipython3",
      "version": "3.9.7"
    },
    "colab": {
      "name": "3_task.ipynb",
      "provenance": []
    }
  },
  "nbformat": 4,
  "nbformat_minor": 5
}