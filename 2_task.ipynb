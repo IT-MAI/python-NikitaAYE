{
  "cells": [
    {
      "cell_type": "markdown",
      "id": "246424fe",
      "metadata": {
        "id": "246424fe"
      },
      "source": [
        "# Самостоятельная работа #2\n",
        "### Задание 1\n",
        "\n",
        "Допишите функцию, которая принимает 2 числа, сравнивает между собой и возвращает наименьшее."
      ]
    },
    {
      "cell_type": "code",
      "execution_count": 2,
      "id": "1b225d18",
      "metadata": {
        "id": "1b225d18",
        "outputId": "8fd72e38-3b3e-4c38-8e6a-b49f902ccb19",
        "colab": {
          "base_uri": "https://localhost:8080/"
        }
      },
      "outputs": [
        {
          "output_type": "stream",
          "name": "stdout",
          "text": [
            "a7\n",
            "b4\n",
            "4\n",
            "None\n"
          ]
        }
      ],
      "source": [
        "def sravni(a,b):\n",
        "  print(min(a,b))\n",
        "\n",
        "a=int(input('a'))\n",
        "b=int(input('b'))\n",
        "print(sravni(a, b))"
      ]
    },
    {
      "cell_type": "markdown",
      "id": "9342d85f",
      "metadata": {
        "id": "9342d85f"
      },
      "source": [
        "### Задание 2\n",
        "\n",
        "Допишите функцию, которая принимает 3 числа, сравнивает между собой и возвращает наименьшее."
      ]
    },
    {
      "cell_type": "code",
      "execution_count": 4,
      "id": "5371aa95",
      "metadata": {
        "id": "5371aa95",
        "outputId": "1761e939-86f5-4066-9276-9075b51ebe16",
        "colab": {
          "base_uri": "https://localhost:8080/"
        }
      },
      "outputs": [
        {
          "output_type": "stream",
          "name": "stdout",
          "text": [
            "a=1\n",
            "b=2\n",
            "c=3\n",
            "1\n",
            "None\n"
          ]
        }
      ],
      "source": [
        "def sravni(a,b,c):\n",
        "  print(min(a,b,c))\n",
        "a=int(input(\"a=\"))\n",
        "b=int(input(\"b=\"))\n",
        "c=int(input(\"c=\"))\n",
        "print(sravni(a,b,c))          "
      ]
    },
    {
      "cell_type": "markdown",
      "id": "9ef85dfd",
      "metadata": {
        "id": "9ef85dfd"
      },
      "source": [
        "### Задание 2\n",
        "\n",
        "Допишите функцию, которая принимает 3 числа, сравнивает между собой и возвращает количество совпадающих чисел. Соответственно, программа может возвращать одно из трех чисел: 3 - если совпадают все, 2 - если совпадают 2 числа, 0 - если все числа различны."
      ]
    },
    {
      "cell_type": "code",
      "execution_count": 9,
      "id": "ec6a169c",
      "metadata": {
        "id": "ec6a169c",
        "outputId": "77ca076d-618c-4534-a2ac-b24d41fee616",
        "colab": {
          "base_uri": "https://localhost:8080/"
        }
      },
      "outputs": [
        {
          "output_type": "stream",
          "name": "stdout",
          "text": [
            "a=1\n",
            "b=1\n",
            "c=1\n",
            "3\n",
            "None\n"
          ]
        }
      ],
      "source": [
        "def sravni(a,b,c):\n",
        "  if a==b and b==c:\n",
        "    print(\"3\")\n",
        "  elif a==b or a==c or b==c:\n",
        "    print('2')\n",
        "  else : print(\"0\")\n",
        "a=int(input(\"a=\"))\n",
        "b=int(input(\"b=\"))\n",
        "c=int(input(\"c=\"))\n",
        "print(sravni(a,b,c))"
      ]
    }
  ],
  "metadata": {
    "kernelspec": {
      "display_name": "Python 3",
      "language": "python",
      "name": "python3"
    },
    "language_info": {
      "codemirror_mode": {
        "name": "ipython",
        "version": 3
      },
      "file_extension": ".py",
      "mimetype": "text/x-python",
      "name": "python",
      "nbconvert_exporter": "python",
      "pygments_lexer": "ipython3",
      "version": "3.9.6"
    },
    "colab": {
      "name": "2_task.ipynb",
      "provenance": []
    }
  },
  "nbformat": 4,
  "nbformat_minor": 5
}