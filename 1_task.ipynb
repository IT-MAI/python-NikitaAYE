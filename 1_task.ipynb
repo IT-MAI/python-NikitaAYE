{
  "cells": [
    {
      "cell_type": "markdown",
      "id": "caec52ff",
      "metadata": {
        "id": "caec52ff"
      },
      "source": [
        "# Самостоятельное задание\n",
        "\n",
        "Мы предлагаем вам потренироваться c логическими и побитовыми операторами."
      ]
    },
    {
      "cell_type": "code",
      "execution_count": null,
      "id": "7fe7e97e",
      "metadata": {
        "id": "7fe7e97e"
      },
      "outputs": [],
      "source": [
        "a = True\n",
        "\n",
        "b = False"
      ]
    },
    {
      "cell_type": "markdown",
      "id": "06c53579",
      "metadata": {
        "id": "06c53579"
      },
      "source": [
        "**Решите:**\n",
        "\n",
        "1. a and b\n",
        "\n",
        "2. (a and b) or b\n",
        "\n",
        "3. (a and b) or not (a and b)\n",
        "\n",
        "4. a and b or not (a or b) or b\n",
        "\n",
        "5. b and b or not a and (a or b or a) or not (a or b)\n",
        "\n",
        "6. 1 << 2\n",
        "\n",
        "7. 1 & 0 | 1 >> 1\n",
        "\n",
        "8. 1 & 0 | 1 >> 0\n",
        "\n",
        "9. 0b101 & 0b111 ^ 0b111 | 0b010  Комментарий: \"0b101\" - запись числа \"5\" на языке Python в двоичном виде "
      ]
    },
    {
      "cell_type": "code",
      "source": [
        "a = True\n",
        "\n",
        "b = False\n",
        "a and b\n"
      ],
      "metadata": {
        "id": "0GJfXXlENW_R",
        "outputId": "9c947aef-369f-4715-efd2-07b62cc7c15a",
        "colab": {
          "base_uri": "https://localhost:8080/"
        }
      },
      "id": "0GJfXXlENW_R",
      "execution_count": 3,
      "outputs": [
        {
          "output_type": "execute_result",
          "data": {
            "text/plain": [
              "False"
            ]
          },
          "metadata": {},
          "execution_count": 3
        }
      ]
    },
    {
      "cell_type": "code",
      "source": [
        "(a and b) or b"
      ],
      "metadata": {
        "id": "0hjb3yTKNm0p",
        "outputId": "3af7fb94-f389-4e8f-aa9c-4ff1b3c7fa92",
        "colab": {
          "base_uri": "https://localhost:8080/"
        }
      },
      "id": "0hjb3yTKNm0p",
      "execution_count": 4,
      "outputs": [
        {
          "output_type": "execute_result",
          "data": {
            "text/plain": [
              "False"
            ]
          },
          "metadata": {},
          "execution_count": 4
        }
      ]
    },
    {
      "cell_type": "code",
      "source": [
        "(a and b) or not (a and b)"
      ],
      "metadata": {
        "id": "eImnfO1fNoxZ",
        "outputId": "cbccfbcb-5ab9-4b9b-9cd2-0dc90d728502",
        "colab": {
          "base_uri": "https://localhost:8080/"
        }
      },
      "id": "eImnfO1fNoxZ",
      "execution_count": 5,
      "outputs": [
        {
          "output_type": "execute_result",
          "data": {
            "text/plain": [
              "True"
            ]
          },
          "metadata": {},
          "execution_count": 5
        }
      ]
    },
    {
      "cell_type": "code",
      "source": [
        "a and b or not (a or b) or b"
      ],
      "metadata": {
        "id": "ALFWtLRRNsqx",
        "outputId": "076cf29c-8926-41c9-aecd-bc647ffd7178",
        "colab": {
          "base_uri": "https://localhost:8080/"
        }
      },
      "id": "ALFWtLRRNsqx",
      "execution_count": 6,
      "outputs": [
        {
          "output_type": "execute_result",
          "data": {
            "text/plain": [
              "False"
            ]
          },
          "metadata": {},
          "execution_count": 6
        }
      ]
    },
    {
      "cell_type": "code",
      "source": [
        "b and b or not a and (a or b or a) or not (a or b)"
      ],
      "metadata": {
        "id": "mDQkhltINuAx",
        "outputId": "4c7d2355-79c1-47b0-e04b-9794b82dcf6e",
        "colab": {
          "base_uri": "https://localhost:8080/"
        }
      },
      "id": "mDQkhltINuAx",
      "execution_count": 7,
      "outputs": [
        {
          "output_type": "execute_result",
          "data": {
            "text/plain": [
              "False"
            ]
          },
          "metadata": {},
          "execution_count": 7
        }
      ]
    },
    {
      "cell_type": "code",
      "source": [
        "1 << 2"
      ],
      "metadata": {
        "id": "t0kfUXeSNxwZ",
        "outputId": "24564144-39cb-479c-bf2e-27572726c59e",
        "colab": {
          "base_uri": "https://localhost:8080/"
        }
      },
      "id": "t0kfUXeSNxwZ",
      "execution_count": 8,
      "outputs": [
        {
          "output_type": "execute_result",
          "data": {
            "text/plain": [
              "4"
            ]
          },
          "metadata": {},
          "execution_count": 8
        }
      ]
    },
    {
      "cell_type": "code",
      "source": [
        "1 & 0 | 1 >> 1"
      ],
      "metadata": {
        "id": "oj6cwZPFN2Zx",
        "outputId": "a948d0de-ddbd-4cc8-c6ae-ac02ea1047dc",
        "colab": {
          "base_uri": "https://localhost:8080/"
        }
      },
      "id": "oj6cwZPFN2Zx",
      "execution_count": 9,
      "outputs": [
        {
          "output_type": "execute_result",
          "data": {
            "text/plain": [
              "0"
            ]
          },
          "metadata": {},
          "execution_count": 9
        }
      ]
    },
    {
      "cell_type": "code",
      "source": [
        "1 & 0 | 1 >> 0"
      ],
      "metadata": {
        "id": "9end_CPTN5AZ",
        "outputId": "ccafba28-db15-44f1-8c12-4eb12f3c4a06",
        "colab": {
          "base_uri": "https://localhost:8080/"
        }
      },
      "id": "9end_CPTN5AZ",
      "execution_count": 10,
      "outputs": [
        {
          "output_type": "execute_result",
          "data": {
            "text/plain": [
              "1"
            ]
          },
          "metadata": {},
          "execution_count": 10
        }
      ]
    },
    {
      "cell_type": "code",
      "source": [
        "0b101 & 0b111 ^ 0b111 | 0b010"
      ],
      "metadata": {
        "id": "7WGgg3ReN7Cy",
        "outputId": "64fa80df-af24-4af5-f78c-152d61a5cea9",
        "colab": {
          "base_uri": "https://localhost:8080/"
        }
      },
      "id": "7WGgg3ReN7Cy",
      "execution_count": 11,
      "outputs": [
        {
          "output_type": "execute_result",
          "data": {
            "text/plain": [
              "2"
            ]
          },
          "metadata": {},
          "execution_count": 11
        }
      ]
    }
  ],
  "metadata": {
    "kernelspec": {
      "display_name": "Python 3",
      "language": "python",
      "name": "python3"
    },
    "language_info": {
      "codemirror_mode": {
        "name": "ipython",
        "version": 3
      },
      "file_extension": ".py",
      "mimetype": "text/x-python",
      "name": "python",
      "nbconvert_exporter": "python",
      "pygments_lexer": "ipython3",
      "version": "3.9.6"
    },
    "colab": {
      "name": "1_task.ipynb",
      "provenance": []
    }
  },
  "nbformat": 4,
  "nbformat_minor": 5
}